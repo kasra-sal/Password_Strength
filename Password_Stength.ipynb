{
  "cells": [
    {
      "cell_type": "code",
      "execution_count": 15,
      "metadata": {
        "colab": {
          "base_uri": "https://localhost:8080/",
          "height": 348
        },
        "id": "krd9sKsD3BVS",
        "outputId": "aa2b6501-1c69-4b8f-8856-bdb8fe2bfd4a"
      },
      "outputs": [
        {
          "output_type": "stream",
          "name": "stderr",
          "text": [
            "/usr/local/lib/python3.8/dist-packages/IPython/core/interactiveshell.py:3326: FutureWarning: The error_bad_lines argument has been deprecated and will be removed in a future version.\n",
            "\n",
            "\n",
            "  exec(code_obj, self.user_global_ns, self.user_ns)\n",
            "b'Skipping line 2810: expected 2 fields, saw 5\\nSkipping line 4641: expected 2 fields, saw 5\\nSkipping line 7171: expected 2 fields, saw 5\\nSkipping line 11220: expected 2 fields, saw 5\\nSkipping line 13809: expected 2 fields, saw 5\\nSkipping line 14132: expected 2 fields, saw 5\\nSkipping line 14293: expected 2 fields, saw 5\\nSkipping line 14865: expected 2 fields, saw 5\\nSkipping line 17419: expected 2 fields, saw 5\\nSkipping line 22801: expected 2 fields, saw 5\\nSkipping line 25001: expected 2 fields, saw 5\\nSkipping line 26603: expected 2 fields, saw 5\\nSkipping line 26742: expected 2 fields, saw 5\\nSkipping line 29702: expected 2 fields, saw 5\\nSkipping line 32767: expected 2 fields, saw 5\\nSkipping line 32878: expected 2 fields, saw 5\\nSkipping line 35643: expected 2 fields, saw 5\\nSkipping line 36550: expected 2 fields, saw 5\\nSkipping line 38732: expected 2 fields, saw 5\\nSkipping line 40567: expected 2 fields, saw 5\\nSkipping line 40576: expected 2 fields, saw 5\\nSkipping line 41864: expected 2 fields, saw 5\\nSkipping line 46861: expected 2 fields, saw 5\\nSkipping line 47939: expected 2 fields, saw 5\\nSkipping line 48628: expected 2 fields, saw 5\\nSkipping line 48908: expected 2 fields, saw 5\\nSkipping line 57582: expected 2 fields, saw 5\\nSkipping line 58782: expected 2 fields, saw 5\\nSkipping line 58984: expected 2 fields, saw 5\\nSkipping line 61518: expected 2 fields, saw 5\\nSkipping line 63451: expected 2 fields, saw 5\\nSkipping line 68141: expected 2 fields, saw 5\\nSkipping line 72083: expected 2 fields, saw 5\\nSkipping line 74027: expected 2 fields, saw 5\\nSkipping line 77811: expected 2 fields, saw 5\\nSkipping line 83958: expected 2 fields, saw 5\\nSkipping line 85295: expected 2 fields, saw 5\\nSkipping line 88665: expected 2 fields, saw 5\\nSkipping line 89198: expected 2 fields, saw 5\\nSkipping line 92499: expected 2 fields, saw 5\\nSkipping line 92751: expected 2 fields, saw 5\\nSkipping line 93689: expected 2 fields, saw 5\\nSkipping line 94776: expected 2 fields, saw 5\\nSkipping line 97334: expected 2 fields, saw 5\\nSkipping line 102316: expected 2 fields, saw 5\\nSkipping line 103421: expected 2 fields, saw 5\\nSkipping line 106872: expected 2 fields, saw 5\\nSkipping line 109363: expected 2 fields, saw 5\\nSkipping line 110117: expected 2 fields, saw 5\\nSkipping line 110465: expected 2 fields, saw 5\\nSkipping line 113843: expected 2 fields, saw 5\\nSkipping line 115634: expected 2 fields, saw 5\\nSkipping line 121518: expected 2 fields, saw 5\\nSkipping line 123692: expected 2 fields, saw 5\\nSkipping line 124708: expected 2 fields, saw 5\\nSkipping line 129608: expected 2 fields, saw 5\\nSkipping line 133176: expected 2 fields, saw 5\\nSkipping line 135532: expected 2 fields, saw 5\\nSkipping line 138042: expected 2 fields, saw 5\\nSkipping line 139485: expected 2 fields, saw 5\\nSkipping line 140401: expected 2 fields, saw 5\\nSkipping line 144093: expected 2 fields, saw 5\\nSkipping line 149850: expected 2 fields, saw 5\\nSkipping line 151831: expected 2 fields, saw 5\\nSkipping line 158014: expected 2 fields, saw 5\\nSkipping line 162047: expected 2 fields, saw 5\\nSkipping line 164515: expected 2 fields, saw 5\\nSkipping line 170313: expected 2 fields, saw 5\\nSkipping line 171325: expected 2 fields, saw 5\\nSkipping line 171424: expected 2 fields, saw 5\\nSkipping line 175920: expected 2 fields, saw 5\\nSkipping line 176210: expected 2 fields, saw 5\\nSkipping line 183603: expected 2 fields, saw 5\\nSkipping line 190264: expected 2 fields, saw 5\\nSkipping line 191683: expected 2 fields, saw 5\\nSkipping line 191988: expected 2 fields, saw 5\\nSkipping line 195450: expected 2 fields, saw 5\\nSkipping line 195754: expected 2 fields, saw 5\\nSkipping line 197124: expected 2 fields, saw 5\\nSkipping line 199263: expected 2 fields, saw 5\\nSkipping line 202603: expected 2 fields, saw 5\\nSkipping line 209960: expected 2 fields, saw 5\\nSkipping line 213218: expected 2 fields, saw 5\\nSkipping line 217060: expected 2 fields, saw 5\\nSkipping line 220121: expected 2 fields, saw 5\\nSkipping line 223518: expected 2 fields, saw 5\\nSkipping line 226293: expected 2 fields, saw 5\\nSkipping line 227035: expected 2 fields, saw 7\\nSkipping line 227341: expected 2 fields, saw 5\\nSkipping line 227808: expected 2 fields, saw 5\\nSkipping line 228516: expected 2 fields, saw 5\\nSkipping line 228733: expected 2 fields, saw 5\\nSkipping line 232043: expected 2 fields, saw 5\\nSkipping line 232426: expected 2 fields, saw 5\\nSkipping line 234490: expected 2 fields, saw 5\\nSkipping line 239626: expected 2 fields, saw 5\\nSkipping line 240461: expected 2 fields, saw 5\\nSkipping line 244518: expected 2 fields, saw 5\\nSkipping line 245395: expected 2 fields, saw 5\\nSkipping line 246168: expected 2 fields, saw 5\\nSkipping line 246655: expected 2 fields, saw 5\\nSkipping line 246752: expected 2 fields, saw 5\\nSkipping line 247189: expected 2 fields, saw 5\\nSkipping line 250276: expected 2 fields, saw 5\\nSkipping line 255327: expected 2 fields, saw 5\\nSkipping line 257094: expected 2 fields, saw 5\\n'\n",
            "b'Skipping line 264626: expected 2 fields, saw 5\\nSkipping line 265028: expected 2 fields, saw 5\\nSkipping line 269150: expected 2 fields, saw 5\\nSkipping line 271360: expected 2 fields, saw 5\\nSkipping line 273975: expected 2 fields, saw 5\\nSkipping line 274742: expected 2 fields, saw 5\\nSkipping line 276227: expected 2 fields, saw 5\\nSkipping line 279807: expected 2 fields, saw 5\\nSkipping line 283425: expected 2 fields, saw 5\\nSkipping line 287468: expected 2 fields, saw 5\\nSkipping line 292995: expected 2 fields, saw 5\\nSkipping line 293496: expected 2 fields, saw 5\\nSkipping line 293735: expected 2 fields, saw 5\\nSkipping line 295060: expected 2 fields, saw 5\\nSkipping line 296643: expected 2 fields, saw 5\\nSkipping line 296848: expected 2 fields, saw 5\\nSkipping line 308926: expected 2 fields, saw 5\\nSkipping line 310360: expected 2 fields, saw 5\\nSkipping line 317004: expected 2 fields, saw 5\\nSkipping line 318207: expected 2 fields, saw 5\\nSkipping line 331783: expected 2 fields, saw 5\\nSkipping line 333864: expected 2 fields, saw 5\\nSkipping line 335958: expected 2 fields, saw 5\\nSkipping line 336290: expected 2 fields, saw 5\\nSkipping line 343526: expected 2 fields, saw 5\\nSkipping line 343857: expected 2 fields, saw 5\\nSkipping line 344059: expected 2 fields, saw 5\\nSkipping line 348691: expected 2 fields, saw 5\\nSkipping line 353446: expected 2 fields, saw 5\\nSkipping line 357073: expected 2 fields, saw 5\\nSkipping line 359753: expected 2 fields, saw 5\\nSkipping line 359974: expected 2 fields, saw 5\\nSkipping line 366534: expected 2 fields, saw 5\\nSkipping line 369514: expected 2 fields, saw 5\\nSkipping line 377759: expected 2 fields, saw 5\\nSkipping line 379327: expected 2 fields, saw 5\\nSkipping line 380769: expected 2 fields, saw 5\\nSkipping line 381073: expected 2 fields, saw 5\\nSkipping line 381489: expected 2 fields, saw 5\\nSkipping line 386304: expected 2 fields, saw 5\\nSkipping line 387635: expected 2 fields, saw 5\\nSkipping line 389613: expected 2 fields, saw 5\\nSkipping line 392604: expected 2 fields, saw 5\\nSkipping line 393184: expected 2 fields, saw 5\\nSkipping line 395530: expected 2 fields, saw 5\\nSkipping line 396939: expected 2 fields, saw 5\\nSkipping line 397385: expected 2 fields, saw 5\\nSkipping line 397509: expected 2 fields, saw 5\\nSkipping line 402902: expected 2 fields, saw 5\\nSkipping line 405187: expected 2 fields, saw 5\\nSkipping line 408412: expected 2 fields, saw 5\\nSkipping line 419423: expected 2 fields, saw 5\\nSkipping line 420962: expected 2 fields, saw 5\\nSkipping line 425965: expected 2 fields, saw 5\\nSkipping line 427496: expected 2 fields, saw 5\\nSkipping line 438881: expected 2 fields, saw 5\\nSkipping line 439776: expected 2 fields, saw 5\\nSkipping line 440345: expected 2 fields, saw 5\\nSkipping line 445507: expected 2 fields, saw 5\\nSkipping line 445548: expected 2 fields, saw 5\\nSkipping line 447184: expected 2 fields, saw 5\\nSkipping line 448603: expected 2 fields, saw 5\\nSkipping line 451732: expected 2 fields, saw 5\\nSkipping line 458249: expected 2 fields, saw 5\\nSkipping line 460274: expected 2 fields, saw 5\\nSkipping line 467630: expected 2 fields, saw 5\\nSkipping line 473961: expected 2 fields, saw 5\\nSkipping line 476281: expected 2 fields, saw 5\\nSkipping line 478010: expected 2 fields, saw 5\\nSkipping line 478322: expected 2 fields, saw 5\\nSkipping line 479999: expected 2 fields, saw 5\\nSkipping line 480898: expected 2 fields, saw 5\\nSkipping line 481688: expected 2 fields, saw 5\\nSkipping line 485193: expected 2 fields, saw 5\\nSkipping line 485519: expected 2 fields, saw 5\\nSkipping line 486000: expected 2 fields, saw 5\\nSkipping line 489063: expected 2 fields, saw 5\\nSkipping line 494525: expected 2 fields, saw 5\\nSkipping line 495009: expected 2 fields, saw 5\\nSkipping line 501954: expected 2 fields, saw 5\\nSkipping line 508035: expected 2 fields, saw 5\\nSkipping line 508828: expected 2 fields, saw 5\\nSkipping line 509833: expected 2 fields, saw 5\\nSkipping line 510410: expected 2 fields, saw 5\\nSkipping line 518229: expected 2 fields, saw 5\\nSkipping line 520302: expected 2 fields, saw 5\\nSkipping line 520340: expected 2 fields, saw 5\\n'\n",
            "b'Skipping line 525174: expected 2 fields, saw 5\\nSkipping line 526251: expected 2 fields, saw 5\\nSkipping line 529611: expected 2 fields, saw 5\\nSkipping line 531398: expected 2 fields, saw 5\\nSkipping line 534146: expected 2 fields, saw 5\\nSkipping line 544954: expected 2 fields, saw 5\\nSkipping line 553002: expected 2 fields, saw 5\\nSkipping line 553883: expected 2 fields, saw 5\\nSkipping line 553887: expected 2 fields, saw 5\\nSkipping line 553915: expected 2 fields, saw 5\\nSkipping line 554172: expected 2 fields, saw 5\\nSkipping line 563534: expected 2 fields, saw 5\\nSkipping line 565191: expected 2 fields, saw 5\\nSkipping line 574108: expected 2 fields, saw 5\\nSkipping line 574412: expected 2 fields, saw 5\\nSkipping line 575985: expected 2 fields, saw 5\\nSkipping line 580091: expected 2 fields, saw 5\\nSkipping line 582682: expected 2 fields, saw 5\\nSkipping line 585885: expected 2 fields, saw 5\\nSkipping line 590171: expected 2 fields, saw 5\\nSkipping line 591924: expected 2 fields, saw 5\\nSkipping line 592515: expected 2 fields, saw 5\\nSkipping line 593888: expected 2 fields, saw 5\\nSkipping line 596245: expected 2 fields, saw 5\\nSkipping line 607344: expected 2 fields, saw 5\\nSkipping line 607633: expected 2 fields, saw 5\\nSkipping line 610939: expected 2 fields, saw 5\\nSkipping line 613638: expected 2 fields, saw 5\\nSkipping line 615643: expected 2 fields, saw 5\\nSkipping line 615901: expected 2 fields, saw 5\\nSkipping line 617389: expected 2 fields, saw 5\\nSkipping line 634641: expected 2 fields, saw 5\\nSkipping line 635755: expected 2 fields, saw 5\\nSkipping line 646243: expected 2 fields, saw 5\\nSkipping line 647165: expected 2 fields, saw 5\\nSkipping line 648610: expected 2 fields, saw 5\\nSkipping line 648772: expected 2 fields, saw 5\\nSkipping line 651833: expected 2 fields, saw 5\\nSkipping line 653663: expected 2 fields, saw 5\\nSkipping line 656233: expected 2 fields, saw 5\\nSkipping line 656694: expected 2 fields, saw 5\\nSkipping line 659783: expected 2 fields, saw 5\\nSkipping line 660478: expected 2 fields, saw 5\\nSkipping line 661133: expected 2 fields, saw 5\\nSkipping line 661736: expected 2 fields, saw 5\\nSkipping line 669827: expected 2 fields, saw 5\\n'\n"
          ]
        },
        {
          "output_type": "execute_result",
          "data": {
            "text/plain": [
              "      password  strength\n",
              "0     kzde5577         1\n",
              "1     kino3434         1\n",
              "2    visi7k1yr         1\n",
              "3     megzy123         1\n",
              "4  lamborghin1         1"
            ],
            "text/html": [
              "\n",
              "  <div id=\"df-41c58998-7f05-4b52-b673-a4a343cc3d70\">\n",
              "    <div class=\"colab-df-container\">\n",
              "      <div>\n",
              "<style scoped>\n",
              "    .dataframe tbody tr th:only-of-type {\n",
              "        vertical-align: middle;\n",
              "    }\n",
              "\n",
              "    .dataframe tbody tr th {\n",
              "        vertical-align: top;\n",
              "    }\n",
              "\n",
              "    .dataframe thead th {\n",
              "        text-align: right;\n",
              "    }\n",
              "</style>\n",
              "<table border=\"1\" class=\"dataframe\">\n",
              "  <thead>\n",
              "    <tr style=\"text-align: right;\">\n",
              "      <th></th>\n",
              "      <th>password</th>\n",
              "      <th>strength</th>\n",
              "    </tr>\n",
              "  </thead>\n",
              "  <tbody>\n",
              "    <tr>\n",
              "      <th>0</th>\n",
              "      <td>kzde5577</td>\n",
              "      <td>1</td>\n",
              "    </tr>\n",
              "    <tr>\n",
              "      <th>1</th>\n",
              "      <td>kino3434</td>\n",
              "      <td>1</td>\n",
              "    </tr>\n",
              "    <tr>\n",
              "      <th>2</th>\n",
              "      <td>visi7k1yr</td>\n",
              "      <td>1</td>\n",
              "    </tr>\n",
              "    <tr>\n",
              "      <th>3</th>\n",
              "      <td>megzy123</td>\n",
              "      <td>1</td>\n",
              "    </tr>\n",
              "    <tr>\n",
              "      <th>4</th>\n",
              "      <td>lamborghin1</td>\n",
              "      <td>1</td>\n",
              "    </tr>\n",
              "  </tbody>\n",
              "</table>\n",
              "</div>\n",
              "      <button class=\"colab-df-convert\" onclick=\"convertToInteractive('df-41c58998-7f05-4b52-b673-a4a343cc3d70')\"\n",
              "              title=\"Convert this dataframe to an interactive table.\"\n",
              "              style=\"display:none;\">\n",
              "        \n",
              "  <svg xmlns=\"http://www.w3.org/2000/svg\" height=\"24px\"viewBox=\"0 0 24 24\"\n",
              "       width=\"24px\">\n",
              "    <path d=\"M0 0h24v24H0V0z\" fill=\"none\"/>\n",
              "    <path d=\"M18.56 5.44l.94 2.06.94-2.06 2.06-.94-2.06-.94-.94-2.06-.94 2.06-2.06.94zm-11 1L8.5 8.5l.94-2.06 2.06-.94-2.06-.94L8.5 2.5l-.94 2.06-2.06.94zm10 10l.94 2.06.94-2.06 2.06-.94-2.06-.94-.94-2.06-.94 2.06-2.06.94z\"/><path d=\"M17.41 7.96l-1.37-1.37c-.4-.4-.92-.59-1.43-.59-.52 0-1.04.2-1.43.59L10.3 9.45l-7.72 7.72c-.78.78-.78 2.05 0 2.83L4 21.41c.39.39.9.59 1.41.59.51 0 1.02-.2 1.41-.59l7.78-7.78 2.81-2.81c.8-.78.8-2.07 0-2.86zM5.41 20L4 18.59l7.72-7.72 1.47 1.35L5.41 20z\"/>\n",
              "  </svg>\n",
              "      </button>\n",
              "      \n",
              "  <style>\n",
              "    .colab-df-container {\n",
              "      display:flex;\n",
              "      flex-wrap:wrap;\n",
              "      gap: 12px;\n",
              "    }\n",
              "\n",
              "    .colab-df-convert {\n",
              "      background-color: #E8F0FE;\n",
              "      border: none;\n",
              "      border-radius: 50%;\n",
              "      cursor: pointer;\n",
              "      display: none;\n",
              "      fill: #1967D2;\n",
              "      height: 32px;\n",
              "      padding: 0 0 0 0;\n",
              "      width: 32px;\n",
              "    }\n",
              "\n",
              "    .colab-df-convert:hover {\n",
              "      background-color: #E2EBFA;\n",
              "      box-shadow: 0px 1px 2px rgba(60, 64, 67, 0.3), 0px 1px 3px 1px rgba(60, 64, 67, 0.15);\n",
              "      fill: #174EA6;\n",
              "    }\n",
              "\n",
              "    [theme=dark] .colab-df-convert {\n",
              "      background-color: #3B4455;\n",
              "      fill: #D2E3FC;\n",
              "    }\n",
              "\n",
              "    [theme=dark] .colab-df-convert:hover {\n",
              "      background-color: #434B5C;\n",
              "      box-shadow: 0px 1px 3px 1px rgba(0, 0, 0, 0.15);\n",
              "      filter: drop-shadow(0px 1px 2px rgba(0, 0, 0, 0.3));\n",
              "      fill: #FFFFFF;\n",
              "    }\n",
              "  </style>\n",
              "\n",
              "      <script>\n",
              "        const buttonEl =\n",
              "          document.querySelector('#df-41c58998-7f05-4b52-b673-a4a343cc3d70 button.colab-df-convert');\n",
              "        buttonEl.style.display =\n",
              "          google.colab.kernel.accessAllowed ? 'block' : 'none';\n",
              "\n",
              "        async function convertToInteractive(key) {\n",
              "          const element = document.querySelector('#df-41c58998-7f05-4b52-b673-a4a343cc3d70');\n",
              "          const dataTable =\n",
              "            await google.colab.kernel.invokeFunction('convertToInteractive',\n",
              "                                                     [key], {});\n",
              "          if (!dataTable) return;\n",
              "\n",
              "          const docLinkHtml = 'Like what you see? Visit the ' +\n",
              "            '<a target=\"_blank\" href=https://colab.research.google.com/notebooks/data_table.ipynb>data table notebook</a>'\n",
              "            + ' to learn more about interactive tables.';\n",
              "          element.innerHTML = '';\n",
              "          dataTable['output_type'] = 'display_data';\n",
              "          await google.colab.output.renderOutput(dataTable, element);\n",
              "          const docLink = document.createElement('div');\n",
              "          docLink.innerHTML = docLinkHtml;\n",
              "          element.appendChild(docLink);\n",
              "        }\n",
              "      </script>\n",
              "    </div>\n",
              "  </div>\n",
              "  "
            ]
          },
          "metadata": {},
          "execution_count": 15
        }
      ],
      "source": [
        "!apt install libgraphviz-dev\n",
        "!pip install pygraphviz\n",
        "!pip install -q -U keras-tuner\n",
        "!pip install snapml\n",
        "!pip install catboost\n",
        "\n",
        "\n",
        "\n",
        "import pandas as pd\n",
        "import numpy as np\n",
        "import seaborn as sns\n",
        "import joblib\n",
        "from catboost import CatBoostClassifier\n",
        "from sklearn.ensemble import AdaBoostClassifier\n",
        "from sklearn.naive_bayes import GaussianNB\n",
        "from sklearn.linear_model import LogisticRegression \n",
        "from sklearn.metrics._plot.confusion_matrix import ConfusionMatrixDisplay\n",
        "from sklearn.metrics import plot_confusion_matrix, classification_report\n",
        "import pickle\n",
        "from sklearn.tree import DecisionTreeClassifier\n",
        "from sklearn.ensemble import RandomForestClassifier, GradientBoostingClassifier, VotingClassifier\n",
        "import keras \n",
        "from sklearn.metrics import confusion_matrix\n",
        "from keras.models import Sequential\n",
        "from keras.layers import Flatten,Dense,Dropout,BatchNormalization\n",
        "from sklearn.model_selection import GridSearchCV, train_test_split, RandomizedSearchCV\n",
        "from sklearn.preprocessing import MinMaxScaler, StandardScaler\n",
        "from sklearn.feature_extraction.text import TfidfVectorizer\n",
        "from sklearn import decomposition, datasets\n",
        "from sklearn.pipeline import Pipeline\n",
        "from sklearn.decomposition import TruncatedSVD, PCA\n",
        "from sklearn import preprocessing, neighbors\n",
        "import keras_tuner as kt\n",
        "import tensorflow as tf\n",
        "import matplotlib.pyplot as plt\n",
        "from tensorflow.keras import models\n",
        "from keras.utils import plot_model\n",
        "from xgboost import XGBClassifier\n",
        "from sklearn.utils import resample\n",
        "from sklearn.metrics import confusion_matrix\n",
        "\n",
        "url = \"https://raw.githubusercontent.com/kasra-sal/Password_Strength/main/data.csv\"\n",
        "data = pd.read_csv(url, error_bad_lines=False)\n",
        "data.head()"
      ]
    },
    {
      "cell_type": "code",
      "execution_count": 16,
      "metadata": {
        "colab": {
          "base_uri": "https://localhost:8080/",
          "height": 351
        },
        "id": "D3GyxnGxDBhy",
        "outputId": "72c15086-d1c7-4fd1-c9a7-1e1a4d06db57"
      },
      "outputs": [
        {
          "output_type": "stream",
          "name": "stderr",
          "text": [
            "/usr/local/lib/python3.8/dist-packages/seaborn/_decorators.py:36: FutureWarning: Pass the following variable as a keyword arg: x. From version 0.12, the only valid positional argument will be `data`, and passing other arguments without an explicit keyword will result in an error or misinterpretation.\n",
            "  warnings.warn(\n"
          ]
        },
        {
          "output_type": "execute_result",
          "data": {
            "text/plain": [
              "<matplotlib.axes._subplots.AxesSubplot at 0x7f1efdb8bb20>"
            ]
          },
          "metadata": {},
          "execution_count": 16
        },
        {
          "output_type": "display_data",
          "data": {
            "text/plain": [
              "<Figure size 432x288 with 1 Axes>"
            ],
            "image/png": "[encoded data removed]"
          },
          "metadata": {
            "needs_background": "light"
          }
        }
      ],
      "source": [
        "sns.countplot(data['strength'])"
      ]
    },
    {
      "cell_type": "code",
      "execution_count": 17,
      "metadata": {
        "id": "v5skWrlBlyTs"
      },
      "outputs": [],
      "source": [
        "# Assigning variables to each label in order to use it for downsampling\n",
        "weak = data[data['strength']==0]\n",
        "medium = data[data['strength']==1]\n",
        "strong = data[data['strength']==2]\n",
        "\n",
        "# data downsampling function\n",
        "def data_downsampling(x):\n",
        "  return resample(x,replace=True,n_samples=len(weak),random_state=42) \n",
        "\n",
        "medium_resample = data_downsampling(medium)\n",
        "strong_resample = data_downsampling(strong)\n",
        "\n",
        "# combining the labels \n",
        "data = pd.concat([weak,medium_resample,strong_resample])\n",
        "\n",
        "# Checking wether empty fields exist\n",
        "data.isna().sum()\n",
        "\n",
        "# Drop empty rows\n",
        "data.dropna(inplace=True)\n",
        "\n",
        "\n",
        "# Tokenizer function for TFIDF vectorizer function\n",
        "'''check back'''\n",
        "#data['length'] = data['password'].str.len()\n",
        "def createTokens(f):\n",
        "    tokens = []\n",
        "    for i in f:\n",
        "        tokens.append(i)\n",
        "    return tokens\n",
        "\n",
        "\n",
        "X = np.array(data[\"password\"])\n",
        "# Since there are only two columns, instead of dropping the column to predicted, it is selected.\n",
        "y = np.array(data['strength'])\n",
        "\n",
        "# Vectorizing X\n",
        "vectorizer = TfidfVectorizer(tokenizer=createTokens)\n",
        "X = vectorizer.fit_transform(X)\n",
        "\n",
        "# splitting data into 80% train, 20% test split \n",
        "X_train,X_test,y_train,y_test = train_test_split(X,y,test_size=0.2)\n",
        "\n",
        "X_train =X_train.toarray()\n",
        "X_test = X_test.toarray()\n",
        "\n",
        "\n"
      ]
    },
    {
      "cell_type": "code",
      "execution_count": 18,
      "metadata": {
        "colab": {
          "base_uri": "https://localhost:8080/",
          "height": 351
        },
        "id": "2elywoIh4aaI",
        "outputId": "1b891b89-195c-4c30-c1de-67efa9e6984f"
      },
      "outputs": [
        {
          "output_type": "stream",
          "name": "stderr",
          "text": [
            "/usr/local/lib/python3.8/dist-packages/seaborn/_decorators.py:36: FutureWarning: Pass the following variable as a keyword arg: x. From version 0.12, the only valid positional argument will be `data`, and passing other arguments without an explicit keyword will result in an error or misinterpretation.\n",
            "  warnings.warn(\n"
          ]
        },
        {
          "output_type": "execute_result",
          "data": {
            "text/plain": [
              "<matplotlib.axes._subplots.AxesSubplot at 0x7f1edcdd77f0>"
            ]
          },
          "metadata": {},
          "execution_count": 18
        },
        {
          "output_type": "display_data",
          "data": {
            "text/plain": [
              "<Figure size 432x288 with 1 Axes>"
            ],
            "image/png": "[encoded data removed]"
          },
          "metadata": {
            "needs_background": "light"
          }
        }
      ],
      "source": [
        "\n",
        "sns.countplot(data['strength'])"
      ]
    },
    {
      "cell_type": "code",
      "execution_count": 19,
      "metadata": {
        "id": "4FuGWxhb2uHO"
      },
      "outputs": [],
      "source": [
        "\n",
        "class pipe_model():\n",
        "  def __init__(self,X_train,y_train,X_test,y_test):\n",
        "    self.X_train = X_train\n",
        "    self.y_train = y_train\n",
        "    self.X_test = X_test  \n",
        "    self.y_test = y_test\n",
        "\n",
        "  def fit(self,pipe_filename):\n",
        "    model = pipe_filename.fit(self.X_train,self.y_train)\n",
        "    return model\n",
        "  def model_score(self,model):\n",
        "    score = model.score(self.X_test,self.y_test)\n",
        "    return(score*100)\n",
        "\n",
        "  def predict(self,model,X_test):\n",
        "    return model.predict(X_test)\n",
        "\n",
        "  def save(self,model,filename):\n",
        "    pickle.dump(model, open( f'{filename}.sav', 'wb'))\n",
        "\n",
        "  def load(self,filename):\n",
        "    model = pickle.load(open(f'{filename}.sav', 'rb'))\n",
        "    return model\n",
        " \n",
        "\n",
        "class ANN:\n",
        "    def __init__(self, input_size, output_size):\n",
        "        self.model = Sequential()\n",
        "        self.input_size = input_size\n",
        "        self.output_size = output_size\n",
        "\n",
        "\n",
        "    def add_layer(self, units, activation, input_size=None):\n",
        "        if input_size == True:\n",
        "            self.model.add(Flatten(input_shape=[self.input_size]))\n",
        "            self.model.add(Dense(units, activation=activation))\n",
        "        else:\n",
        "            self.model.add(Dense(units,activation=activation))\n",
        "    def Batch_normalization(self):\n",
        "        self.model.add(BatchNormalization())\n",
        "        \n",
        "    def compile(self, optimizer, loss, metrics):\n",
        "        self.model.compile(optimizer=optimizer, loss=loss, metrics=metrics)\n",
        "\n",
        "    def summary(self):\n",
        "        return self.model.summary()\n",
        "\n",
        "    def predict(self,model,list_to_predict):\n",
        "      if range(len(list_to_predict)) == 1:\n",
        "        predict = model.predict(list_to_predict,verbose=0)\n",
        "        return predict\n",
        "      else:\n",
        "        predict = model.predict(list_to_predict,verbose=0)\n",
        "        output = np.argmax((predict), axis = 1)\n",
        "        return output\n",
        "\n",
        "   \n",
        "    def fit(self, X_train, y_train, epochs, batch_size, verbose,validation_data=None):\n",
        "        self.model.fit(X_train, y_train, epochs=epochs, batch_size=batch_size, validation_data=validation_data, verbose=verbose)\n",
        "\n",
        "    def evaluate(self, X_test, y_test):\n",
        "        return self.model.evaluate(X_test, y_test,verbose=0)\n",
        "\n",
        "    def save(self, file_):\n",
        "        self.model.save(file_)\n",
        "    \n",
        "    def load(self, file_):\n",
        "        model = keras.models.load_model(file_)\n",
        "        return model\n",
        "\n",
        "\n",
        "class optimizer():\n",
        "  def __init__(self,X_train,y_train,X_test,y_test):\n",
        "    self.X_train = X_train\n",
        "    self.y_train = y_train\n",
        "    self.X_test = X_test\n",
        "    self.y_test = y_test\n",
        "  def optimize_ANN(self,epoch,max_epoch,batch_size,min_val,max_val,Flatten_shape,act_1,act_2,act_3,act_out):\n",
        "    def DNN_optimizer(self,x):\n",
        "      # Tune the number of units in the two hidden layers:\n",
        "      unit_1 = x.Int('units_1', min_value = min_val, max_value = max_val, step = 32)\n",
        "      unit_2 = x.Int('units_2', min_value = min_val, max_value = max_val, step = 32)\n",
        "      unit_3 = x.Int('units_3', min_value = min_val, max_value = max_val, step = 32)\n",
        "\n",
        "      model = Sequential([\n",
        "          Flatten(input_shape= [Flatten_shape]),\n",
        "          Dense(units = unit_1,activation=act_1),\n",
        "          BatchNormalization(),\n",
        "          Dense(units = unit_2,activation=act_2),\n",
        "          BatchNormalization(),\n",
        "          Dense(units = unit_3,activation=act_3),\n",
        "          Dense(3,activation=act_out)\n",
        "        ])\n",
        "      # Tune the optimizer:\n",
        "      x_optimizer = x.Choice('optimizer', ['Adam', 'RMSProp', 'SGD', 'Adagrad', 'Adamax'])\n",
        "      model.compile(optimizer = x_optimizer,\n",
        "                    loss =\"sparse_categorical_crossentropy\", \n",
        "                    metrics = ['accuracy'])\n",
        "      return model\n",
        "\n",
        "    tuner = kt.Hyperband(DNN_optimizer, objective = 'val_accuracy',max_epochs = max_epoch, factor = 3, overwrite = True)\n",
        "    tuner.search(X_train, y_train,validation_data=(X_test, y_test), verbose=1,batch_size=batch_size)\n",
        "    optimized_model = tuner.get_best_hyperparameters(num_trials = 1)[0]\n",
        "    model = tuner.hypermodel.build(optimized_model)\n",
        "    history =  model.fit(X_train, y_train,validation_data=(X_test, y_test), epochs=epoch,verbose=1,batch_size=batch_size)\n",
        "    return history\n",
        "  def DCT_optimizer(self,model,criterion,max_depth,sample_leaf,sample_split):\n",
        "    pipe = Pipeline(steps=[(\"model\", model)])\n",
        "    param = {\"model__criterion\":criterion,\n",
        "            \"model__max_depth\":max_depth,\n",
        "            \"model__min_samples_split\":sample_split,\n",
        "            \"model__min_samples_leaf\":sample_leaf,\n",
        "            }\n",
        "    _grid = GridSearchCV(estimator=pipe, param_grid=param, verbose=True)\n",
        "    pipe.get_params().keys()\n",
        "    _grid.fit(X_train,y_train)\n",
        "\n",
        "    return _grid.best_estimator_\n",
        "\n",
        "  def RFT_optimizer(self,max_depth,max_features,min_samples_leaf,min_samples_split,n_estimators):\n",
        "    model = RandomForestClassifier()\n",
        "\n",
        "    param = {\n",
        "    'max_depth': max_depth,\n",
        "    'max_features': max_features,\n",
        "    'min_samples_leaf': min_samples_leaf,\n",
        "    'min_samples_split': min_samples_split,\n",
        "    'n_estimators': n_estimators\n",
        "    }\n",
        "\n",
        "    grid_search = GridSearchCV(model, param_grid = param,cv=3, verbose=True)\n",
        "    grid_search.fit(X_train,y_train)\n",
        "    return grid_search.best_estimator_\n",
        "  \n",
        "\n",
        "def confusionMatrix(y_test,y_pred):\n",
        "    cm = confusion_matrix(y_test,y_pred)\n",
        "    pcm = ConfusionMatrixDisplay(confusion_matrix=cm)\n",
        "    pcm.plot()\n",
        "    plt.show()\n",
        "\n"
      ]
    },
    {
      "cell_type": "code",
      "source": [
        "RFT = RandomForestClassifier(max_depth=61, n_jobs=-1,n_estimators=15)\n",
        "DCT = DecisionTreeClassifier(max_depth=61)\n",
        "XGB = XGBClassifier(learning_rate=0.9, n_estimators=15, objective=\"multi:softprob\", nthread=3)\n",
        "LR = LogisticRegression(random_state=42,solver='lbfgs', max_iter=500)\n",
        "ABC = AdaBoostClassifier()\n",
        "CBC = CatBoostClassifier(iterations = 400)\n",
        "GNB = GaussianNB()\n",
        "\n",
        "# Name of sickit learn classifiers \n",
        "clf_name = ['RandomForestClassifier','DecisionTreeClassifier','XGBClassifier','LogisticRegression','CatBoostClassifier','AdaBoostClassifier','GuassianNB','VotingClassifier']\n",
        "clf__ = []\n",
        "\n"
      ],
      "metadata": {
        "id": "qCFxZGbgtO7W"
      },
      "execution_count": 26,
      "outputs": []
    },
    {
      "cell_type": "code",
      "source": [
        "# List for classifiers with parameters to be fed into pipeline\n",
        "\n",
        "clf__.append(RandomForestClassifier(max_depth=61,\n",
        "                                    n_jobs=-1,n_estimators=15))\n",
        "clf__.append(DecisionTreeClassifier(max_depth=61))\n",
        "clf__.append(XGBClassifier(\n",
        "    learning_rate=0.9,\n",
        "    n_estimators=15,\n",
        "    objective=\"multi:softprob\",\n",
        "    nthread=3))\n",
        "clf__.append(LogisticRegression(random_state=42,solver='lbfgs', max_iter=500))\n",
        "clf__.append(CatBoostClassifier(iterations = 200,verbose=0))\n",
        "clf__.append(AdaBoostClassifier())\n",
        "clf__.append(GaussianNB())\n",
        "clf__.append(VotingClassifier(estimators=[            \n",
        "                                     (\"XGBClassifier\", XGB),\n",
        "                                     (\"RandomForestClassifier\", RFT), \n",
        "                                     (\"DecisionTree\", DCT),\n",
        "                                     (\"AdaBoostClassifier\", ABC),\n",
        "                                     (\"LogisticRegression\",LR),\n",
        "                                     (\"GaussianNB\",GNB),                                     \n",
        "                                     ]\n",
        "                          ,voting = \"hard\"))\n",
        "# initiating pipeline with a random classifier\n",
        "pipeline = Pipeline([\n",
        "    ('clf', RandomForestClassifier())])\n",
        "\n",
        "ANN_model = ANN(143,3)\n",
        "ANN_model.add_layer(416,'tanh',True)\n",
        "ANN_model.add_layer(128,'tanh')\n",
        "ANN_model.Batch_normalization()\n",
        "ANN_model.add_layer(100,'tanh')\n",
        "ANN_model.Batch_normalization()\n",
        "ANN_model.add_layer(3,'sigmoid')\n",
        "\n",
        "\n",
        "ANN_model.compile('Adam','sparse_categorical_crossentropy',['accuracy'])"
      ],
      "metadata": {
        "id": "CHGafbN5pAeF"
      },
      "execution_count": 38,
      "outputs": []
    },
    {
      "cell_type": "code",
      "execution_count": 39,
      "metadata": {
        "colab": {
          "base_uri": "https://localhost:8080/"
        },
        "id": "_wHKhLEbX9tK",
        "outputId": "7590e18c-42f1-476c-944f-12df04b0bce2"
      },
      "outputs": [
        {
          "output_type": "stream",
          "name": "stdout",
          "text": [
            "\n",
            "RandomForestClassifier\n",
            "\n",
            "94.44454766726741\n",
            "\n",
            "DecisionTreeClassifier\n",
            "\n",
            "90.79913045093923\n",
            "\n",
            "XGBClassifier\n",
            "\n",
            "91.20417680830903\n",
            "\n",
            "LogisticRegression\n",
            "\n",
            "80.21404284572937\n",
            "\n",
            "CatBoostClassifier\n",
            "\n",
            "97.29659426617863\n",
            "\n",
            "AdaBoostClassifier\n",
            "\n",
            "83.03078723918173\n",
            "\n",
            "GuassianNB\n",
            "\n",
            "37.65816317050965\n",
            "\n",
            "VotingClassifier\n",
            "\n",
            "93.9726129206072\n",
            "\n",
            "Aritifical Neural Network\n",
            "\n",
            "98.33522439002991\n"
          ]
        }
      ],
      "source": [
        "# For loop in order to loop through classifiers and sending it to the pipe_line class\n",
        "\n",
        "for i in range(len(clf_name)):\n",
        "  pipeModel = pipe_model(X_train,y_train,X_test,y_test)\n",
        "  pipeline.set_params(clf = clf__[i])\n",
        "  model = pipeModel.fit(clf__[i])\n",
        "  print(f'\\n{clf_name[i]}\\n')\n",
        "  accuracy  = pipeModel.model_score(model)\n",
        "  print(accuracy)\n",
        "  pipeModel.save(model,clf_name[i])\n",
        "  \n",
        "\n",
        "# Adding layers and batch normalization to the Artifical Neural Network sequntial model\n",
        "\n",
        "ANN_model.fit(X_train, y_train, 50, 1000, verbose=0 ,validation_data=(X_test, y_test))\n",
        "print(f'\\nAritifical Neural Network\\n')\n",
        "accuracy  = ANN_model.evaluate(X_test,y_test)\n",
        "print(accuracy[1]*100)\n",
        "ANN_model.save(\"ANN_model\")\n"
      ]
    },
    {
      "cell_type": "code",
      "execution_count": 40,
      "metadata": {
        "id": "fgLAY24_M85S",
        "colab": {
          "base_uri": "https://localhost:8080/",
          "height": 1000
        },
        "outputId": "ad3ddbfe-4d21-4e37-ec0d-2142c9adc826"
      },
      "outputs": [
        {
          "output_type": "stream",
          "name": "stdout",
          "text": [
            "\n",
            " RandomForestClassifier \n",
            "\n"
          ]
        },
        {
          "output_type": "display_data",
          "data": {
            "text/plain": [
              "<Figure size 432x288 with 2 Axes>"
            ],
            "image/png": "[encoded data removed]"
          },
          "metadata": {
            "needs_background": "light"
          }
        },
        {
          "output_type": "stream",
          "name": "stdout",
          "text": [
            "\n",
            " DecisionTreeClassifier \n",
            "\n"
          ]
        },
        {
          "output_type": "display_data",
          "data": {
            "text/plain": [
              "<Figure size 432x288 with 2 Axes>"
            ],
            "image/png": "[encoded data removed]"
          },
          "metadata": {
            "needs_background": "light"
          }
        },
        {
          "output_type": "stream",
          "name": "stdout",
          "text": [
            "\n",
            " XGBClassifier \n",
            "\n"
          ]
        },
        {
          "output_type": "display_data",
          "data": {
            "text/plain": [
              "<Figure size 432x288 with 2 Axes>"
            ],
            "image/png": "[encoded data removed]"
          },
          "metadata": {
            "needs_background": "light"
          }
        },
        {
          "output_type": "stream",
          "name": "stdout",
          "text": [
            "\n",
            " LogisticRegression \n",
            "\n"
          ]
        },
        {
          "output_type": "display_data",
          "data": {
            "text/plain": [
              "<Figure size 432x288 with 2 Axes>"
            ],
            "image/png": "[encoded data removed]"
          },
          "metadata": {
            "needs_background": "light"
          }
        },
        {
          "output_type": "stream",
          "name": "stdout",
          "text": [
            "\n",
            " CatBoostClassifier \n",
            "\n"
          ]
        },
        {
          "output_type": "display_data",
          "data": {
            "text/plain": [
              "<Figure size 432x288 with 2 Axes>"
            ],
            "image/png": "[encoded data removed]"
          },
          "metadata": {
            "needs_background": "light"
          }
        },
        {
          "output_type": "stream",
          "name": "stdout",
          "text": [
            "\n",
            " AdaBoostClassifier \n",
            "\n"
          ]
        },
        {
          "output_type": "display_data",
          "data": {
            "text/plain": [
              "<Figure size 432x288 with 2 Axes>"
            ],
            "image/png": "[encoded data removed]"
          },
          "metadata": {
            "needs_background": "light"
          }
        },
        {
          "output_type": "stream",
          "name": "stdout",
          "text": [
            "\n",
            " GuassianNB \n",
            "\n"
          ]
        },
        {
          "output_type": "display_data",
          "data": {
            "text/plain": [
              "<Figure size 432x288 with 2 Axes>"
            ],
            "image/png": "[encoded data removed]"
          },
          "metadata": {
            "needs_background": "light"
          }
        },
        {
          "output_type": "stream",
          "name": "stdout",
          "text": [
            "\n",
            " VotingClassifier \n",
            "\n"
          ]
        },
        {
          "output_type": "display_data",
          "data": {
            "text/plain": [
              "<Figure size 432x288 with 2 Axes>"
            ],
            "image/png": "[encoded data removed]"
          },
          "metadata": {
            "needs_background": "light"
          }
        },
        {
          "output_type": "stream",
          "name": "stdout",
          "text": [
            "\n",
            "Artificial Neural Network\n",
            "\n"
          ]
        },
        {
          "output_type": "display_data",
          "data": {
            "text/plain": [
              "<Figure size 432x288 with 2 Axes>"
            ],
            "image/png": "[encoded data removed]"
          },
          "metadata": {
            "needs_background": "light"
          }
        }
      ],
      "source": [
        "# Illustrating Confusion matrix with a visual graph \n",
        "\n",
        "# Confusion Matrix for pipeline classifiers\n",
        "for i in range(len(clf_name)):\n",
        "  pipeModel = pipe_model(X_train,y_train,X_test,y_test)\n",
        "  model = pipeModel.load(clf_name[i])\n",
        "  print(\"\\n\",clf_name[i],\"\\n\")\n",
        "  y_pred = model.predict(X_test)\n",
        "  confusionMatrix(y_test,y_pred)\n",
        "\n",
        "# Confusion Matrix for ANN\n",
        "ANNmodel = ANN(143,3)\n",
        "model = ANNmodel.load(\"ANN_model\")\n",
        "print(\"\\nArtificial Neural Network\\n\")\n",
        "y_pred = ANNmodel.predict(model,X_test)\n",
        "confusionMatrix(y_test,y_pred)"
      ]
    },
    {
      "cell_type": "code",
      "execution_count": 41,
      "metadata": {
        "colab": {
          "base_uri": "https://localhost:8080/"
        },
        "id": "1Iv-BvwKQwZ0",
        "outputId": "9a43a41c-a640-4242-cafb-8b5002fe1b1b"
      },
      "outputs": [
        {
          "output_type": "stream",
          "name": "stdout",
          "text": [
            "\n",
            " RandomForestClassifier \n",
            "\n",
            "[0 0 0 2]\n",
            "\n",
            " DecisionTreeClassifier \n",
            "\n",
            "[2 1 0 2]\n",
            "\n",
            " XGBClassifier \n",
            "\n",
            "[2 0 0 2]\n",
            "\n",
            " LogisticRegression \n",
            "\n",
            "[2 0 0 2]\n",
            "\n",
            " CatBoostClassifier \n",
            "\n",
            "[[2]\n",
            " [0]\n",
            " [0]\n",
            " [2]]\n",
            "\n",
            " AdaBoostClassifier \n",
            "\n",
            "[2 0 0 2]\n",
            "\n",
            " GuassianNB \n",
            "\n",
            "[2 1 1 2]\n",
            "\n",
            " VotingClassifier \n",
            "\n",
            "[2 0 0 2]\n",
            "\n",
            "Artificial Neural Network\n",
            "\n",
            "[2 0 0 2]\n"
          ]
        }
      ],
      "source": [
        "\n",
        "# Creating a list and vectorizing it to be predicted\n",
        "\n",
        "list_of_pass = ['asjkgsSa!1@','sadausdsad','qwerty','BrownF2XjUm!ping']\n",
        "vectorized_pass = vectorizer.transform(list_of_pass)\n",
        "vectorized_pass = vectorized_pass.toarray()\n",
        "\n",
        "\n",
        "for i in  range(len(clf_name)):\n",
        "  pipeModel = pipe_model(X_train,y_train,X_test,y_test)\n",
        "  model = pipeModel.load(clf_name[i])\n",
        "  predict = model.predict(vectorized_pass)\n",
        "  print(\"\\n\",clf_name[i],\"\\n\")\n",
        "  print(predict)\n",
        "\n",
        "ANNmodel = ANN(143,3)\n",
        "model = ANNmodel.load(\"ANN_model\")\n",
        "print(\"\\nArtificial Neural Network\\n\")\n",
        "predict  = ANNmodel.predict(model,vectorized_pass)\n",
        "\n",
        "print(predict)\n",
        "\n",
        "\n",
        "\n"
      ]
    }
  ],
  "metadata": {
    "colab": {
      "provenance": [],
      "mount_file_id": "18YcWyVYjJ1rnDZEdklwRqJSQvLqC32IZ",
      "authorship_tag": "ABX9TyM81eJEJKN/cDvtNV9EGQ3E"
    },
    "kernelspec": {
      "display_name": "Python 3",
      "name": "python3"
    },
    "language_info": {
      "name": "python"
    }
  },
  "nbformat": 4,
  "nbformat_minor": 0
}